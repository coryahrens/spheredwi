{
 "metadata": {
  "name": ""
 },
 "nbformat": 3,
 "nbformat_minor": 0,
 "worksheets": [
  {
   "cells": [
    {
     "cell_type": "markdown",
     "metadata": {},
     "source": [
      "# Sparse Reproducing Kernels for Modeling Fiber Crossings in Diffusion Weighted Imaging"
     ]
    },
    {
     "cell_type": "markdown",
     "metadata": {},
     "source": [
      "Before using this notebook, please configure your environment according to [these instructions](http://nbviewer.ipython.org/urls/raw.github.com/fperez/spheredwi/master/papers/ISBI_2013/bootstrap.ipynb)."
     ]
    },
    {
     "cell_type": "code",
     "collapsed": false,
     "input": [
      "%pylab inline --no-import-all\n",
      "\n",
      "import sys\n",
      "sys.path.insert(0, 'dipy')\n",
      "\n",
      "sys.path.insert(0, 'spheredwi/src/fiber_directions/')\n",
      "sys.path.insert(0, 'spheredwi/src/')\n",
      "\n",
      "import matplotlib\n",
      "import matplotlib.pyplot as plt\n",
      "matplotlib.rc('font', family='serif')\n",
      "\n",
      "import numpy as np\n",
      "\n",
      "prefix = './cache/'\n",
      "!mkdir -p {prefix}"
     ],
     "language": "python",
     "metadata": {},
     "outputs": [
      {
       "output_type": "stream",
       "stream": "stdout",
       "text": [
        "Populating the interactive namespace from numpy and matplotlib\n"
       ]
      }
     ],
     "prompt_number": 65
    },
    {
     "cell_type": "markdown",
     "metadata": {},
     "source": [
      "### Set up headless display"
     ]
    },
    {
     "cell_type": "code",
     "collapsed": false,
     "input": [
      "%%bash --bg\n",
      "\n",
      "# Only execute these two cells if you are running on a headless display,\n",
      "# such as on Amazon EC2\n",
      "\n",
      "Xvfb :1 -screen 0 1280x1024x24 -auth localhost"
     ],
     "language": "python",
     "metadata": {},
     "outputs": [
      {
       "output_type": "stream",
       "stream": "stdout",
       "text": [
        "Starting job # 0 in a separate thread."
       ]
      },
      {
       "output_type": "stream",
       "stream": "stdout",
       "text": [
        "\n"
       ]
      }
     ],
     "prompt_number": 23
    },
    {
     "cell_type": "code",
     "collapsed": false,
     "input": [
      "import os\n",
      "os.environ['DISPLAY'] = 'localhost:1.0'"
     ],
     "language": "python",
     "metadata": {},
     "outputs": [],
     "prompt_number": 24
    },
    {
     "cell_type": "markdown",
     "metadata": {},
     "source": [
      "## Kernel visualization"
     ]
    },
    {
     "cell_type": "code",
     "collapsed": false,
     "input": [
      "from kernel_model import even_kernel, inv_funk_radon_even_kernel\n",
      "from dipy.viz import fvtk\n",
      "from dipy.core.sphere import Sphere, unit_icosahedron\n",
      "\n",
      "sphere = unit_icosahedron.subdivide(6)\n",
      "\n",
      "#from mayavi import mlab\n",
      "#mlab.show = lambda: None # Monkey patch away the blocking UI show\n",
      "#f = mlab.figure(bgcolor=(1, 1, 1), fgcolor=(0, 0, 0))\n",
      "\n",
      "kernel_odf = even_kernel(sph.z, N=8)\n",
      "kernel_signal = inv_funk_radon_even_kernel(sph.z, N=8)\n",
      "\n",
      "r = fvtk.ren()\n",
      "odfs = np.vstack((kernel_odf, kernel_signal))\n",
      "fvtk.add(r, fvtk.sphere_funcs(odfs, sphere))\n",
      "\n",
      "axes = fvtk.axes(scale=(0.5, 0.5, 0.5))\n",
      "axes.SetPosition((0, 0, -2))\n",
      "fvtk.add(r, axes)\n",
      "\n",
      "r.GetActiveCamera().Azimuth(45)\n",
      "r.GetActiveCamera().Elevation(95)\n",
      "r.SetBackground((1, 1, 1))\n",
      "\n",
      "fn = 'odf_crossing_both_domains.png'\n",
      "fvtk.record(r, n_frames=1, out_path=fn)\n",
      "\n",
      "from IPython.display import Image\n",
      "Image(filename=fn)"
     ],
     "language": "python",
     "metadata": {},
     "outputs": [
      {
       "metadata": {},
       "output_type": "pyout",
       "png": "[encoded data removed]",
       "prompt_number": 30,
       "text": [
        "<IPython.core.display.Image at 0x415a310>"
       ]
      }
     ],
     "prompt_number": 30
    },
    {
     "cell_type": "markdown",
     "metadata": {},
     "source": [
      "## Fiber crossings"
     ]
    },
    {
     "cell_type": "code",
     "collapsed": false,
     "input": [
      "from kernel_model import SparseKernelModel\n",
      "from kernel_model import quadrature_points\n",
      "from sphdif.linalg import rotation_around_axis\n",
      "\n",
      "from dipy.core.gradients import GradientTable\n",
      "from dipy.core import sphere\n",
      "from dipy.reconst.shm import CsaOdfModel, OpdtModel, QballModel\n",
      "from dipy.sims.voxel import single_tensor, diffusion_evals\n",
      "from dipy.core.sphere import unit_icosahedron\n",
      "from dipy.reconst.peaks import peak_directions\n",
      "import dipy.data\n",
      "\n",
      "from numpy.linalg import norm as norm\n",
      "\n",
      "AganjModel = CsaOdfModel\n",
      "TristanVegaModel = OpdtModel\n",
      "TuchModel = QballModel"
     ],
     "language": "python",
     "metadata": {},
     "outputs": [],
     "prompt_number": 56
    },
    {
     "cell_type": "markdown",
     "metadata": {},
     "source": [
      "### Define signal generator"
     ]
    },
    {
     "cell_type": "code",
     "collapsed": false,
     "input": [
      "# Diffusion values from\n",
      "# Trist\u00e1n-Vega A., Westin C-F., Aja-Fernandez S.\n",
      "# \"A New Methodology for the Estimation of Fiber Populations in the White Matter\n",
      "# of the Brain with the Funk-Radon Transform\". Neuroimage. 2010 Jan 15;49(2):1301-15.\n",
      "# PMID: 19815078. \n",
      "diffusion_evals = np.array([1800e-6, 200e-6, 200e-6]) # mm^2/s\n",
      "\n",
      "def two_fiber_signal(gtab, angle, w=[0.5, 0.5], SNR=None):\n",
      "    angle = angle / 2.\n",
      "    R0 = rotation_around_axis([0, 1, 1], np.deg2rad(-angle))\n",
      "    R1 = rotation_around_axis([0, 1, 1], np.deg2rad(angle))\n",
      "\n",
      "    E = w[0] * single_tensor(gtab, S0=1, evecs=R0, evals=diffusion_evals, snr=SNR)\n",
      "    E += w[1] * single_tensor(gtab, S0=1, evecs=R1, evals=diffusion_evals, snr=SNR)\n",
      "\n",
      "    return E"
     ],
     "language": "python",
     "metadata": {},
     "outputs": [],
     "prompt_number": 67
    },
    {
     "cell_type": "code",
     "collapsed": false,
     "input": [
      "def add_rician_noise_power(signal, snr):\n",
      "    \"\"\"Add Rician noise, with SNR specified as\n",
      "    power(signal) / power(noise).\n",
      "    \"\"\"\n",
      "    noiseR = np.random.normal(size=signal.shape)\n",
      "    noiseI = np.random.normal(size=signal.shape) * 1j\n",
      "    noise = noiseR + 1j * noiseI\n",
      "    tau = (10.0**(-sig_noise / 10.0) * norm(signal, 2))\n",
      "    noise = noise * (tau / norm(noise)) # Normalize to get desired SNR\n",
      "    return np.abs(signal + noise)\n",
      "\n",
      "def add_rician_noise_std(signal, snr, B0=None):\n",
      "    \"\"\"Add Rician noise, with PSNR specified using the\n",
      "    'std' definition: max(signal) / std(noise).\n",
      "    \"\"\"\n",
      "    if B0 is None:\n",
      "        B0 = np.max(signal)\n",
      "\n",
      "    # Second moment of the noise distribution\n",
      "    sigma = B0 / float(snr)\n",
      "    \n",
      "    noiseR = np.random.normal(size=signal.shape, scale=sigma)\n",
      "    noiseI = np.random.normal(size=signal.shape, scale=sigma) * 1j\n",
      "        \n",
      "    return np.abs(signal + noiseI + noiseR)"
     ],
     "language": "python",
     "metadata": {},
     "outputs": [],
     "prompt_number": 68
    },
    {
     "cell_type": "code",
     "collapsed": false,
     "input": [
      "def all_signals(sig_gtab, angles, realizations, sig_noise):\n",
      "    \"\"\"Pre-generate MRI signals for crossing fibers of the given angles\n",
      "    Each model is then later evaluated on the same signals.\n",
      "\n",
      "    Parameters\n",
      "    ----------\n",
      "    sig_gtab : GradientTable\n",
      "        Gradients for signal simulation.\n",
      "    angles : (M,) ndarray of float\n",
      "        Angles at which to repeat the experiment.\n",
      "    realizations : int\n",
      "        Number of times to repeat the simulation for each individual angle.\n",
      "    sig_noise : float\n",
      "        Signal to noise ratio.  Use the power definition, i.e.\n",
      "        P_signal / P_noise.\n",
      "    \n",
      "    Returns\n",
      "    -------\n",
      "    signals : (M, realizations, N) ndarray of float\n",
      "        Generated MRI data for different angles, noise and\n",
      "        at N gradient directions.\n",
      "\n",
      "    \"\"\"\n",
      "    signals = np.zeros((len(angles), realizations, len(sig_gtab.bvals)))\n",
      "    \n",
      "    for n, angle in enumerate(angles):    \n",
      "        # MC simulation loop\n",
      "\n",
      "        for kk in range(realizations):    \n",
      "            ## Generate measured signal\n",
      "            E = two_fiber_signal(sig_gtab, angle, SNR=None)\n",
      "    \n",
      "            E = add_rician_noise_std(E, snr=sig_noise, B0=1)\n",
      "            E = abs(E) # Measured amplitude signal\n",
      "\n",
      "            signals[n, kk] = E\n",
      "    \n",
      "    return signals"
     ],
     "language": "python",
     "metadata": {},
     "outputs": [],
     "prompt_number": 69
    },
    {
     "cell_type": "markdown",
     "metadata": {},
     "source": [
      "### Define the experiment"
     ]
    },
    {
     "cell_type": "code",
     "collapsed": false,
     "input": [
      "def recover_angle(model, signals, discarded, sph=None):\n",
      "    \"\"\"Generate a noisy data-set for fibers crossing at given angles,\n",
      "    then try to recover that angle.\n",
      "\n",
      "    Parameters\n",
      "    ----------\n",
      "    model : OdfModel\n",
      "        Model to fit to the data.\n",
      "    discarded : int\n",
      "        Number of measurements to drop at random on each iteration.\n",
      "    sph : Sphere\n",
      "        Directions on which to evaluate the ODF when finding peaks.\n",
      "\n",
      "    Returns\n",
      "    -------\n",
      "    recovered_angles : (M, realizations) ndarray\n",
      "        For each of the M angles, return the angle recovered for each realization.\n",
      "    compression_ratios : (M, realizations) ndarray\n",
      "        Compression ratio (non-zero coefficients vs total number of coefficients) for each realization.\n",
      "        Should be close to one for dense models, and much lower for sparse models.\n",
      "\n",
      "    \"\"\"\n",
      "    if sph is None:\n",
      "        sph = sphere.HemiSphere.from_sphere(unit_icosahedron.subdivide(5))\n",
      "    \n",
      "    # Pre-allocate results storage\n",
      "    n_angles, realizations, n_bvals = signals.shape\n",
      "    recovered_angles = np.zeros((n_angles, realizations))\n",
      "    compression_ratios = np.zeros((n_angles, realizations))\n",
      "\n",
      "    # This mask will be permuted on each iteration and used to discard measurements\n",
      "    mask = np.zeros(n_bvals, dtype=bool)\n",
      "    mask[:discarded] = True\n",
      "    \n",
      "    for ii in range(n_angles):\n",
      "        for jj in range(realizations):\n",
      "            E = signals[ii, jj]\n",
      "            \n",
      "            if model.__class__.__name__ == 'SparseKernelModel':\n",
      "                ## Randomly drop a few measurements by replacing their values with NaN\n",
      "                np.random.shuffle(mask)\n",
      "                E = E.copy()\n",
      "                E[mask] = np.nan\n",
      "            \n",
      "            ## Fit the model and get the directions\n",
      "            fit = model.fit(E)\n",
      "            try:\n",
      "                xyz, values, indices = peak_directions(fit.odf(sph), sph, min_separation_angle=0)\n",
      "            except ValueError:\n",
      "                print \"Warning! Direction finding failed.\"\n",
      "                xyz = []\n",
      "    \n",
      "            ## If fewer than two primary directions were found, return 0 as the angle\n",
      "            if len(xyz) > 1:\n",
      "                w = np.dot(xyz[0], xyz[1])\n",
      "            else:\n",
      "                w = 1\n",
      "    \n",
      "            ## Store the recovered angle for later analysis\n",
      "            recovered_angles[ii, jj] = np.rad2deg(np.arccos(np.abs(w)))\n",
      "            \n",
      "            try:\n",
      "                compression_ratios[ii, jj] = np.sum(fit.betas < 1e-10) / len(fit.betas)\n",
      "            except AttributeError:\n",
      "                # Only our sparse kernel model has a \"betas\" parameter on the fit\n",
      "                pass\n",
      "            \n",
      "    return recovered_angles, compression_ratios"
     ],
     "language": "python",
     "metadata": {},
     "outputs": [],
     "prompt_number": 70
    },
    {
     "cell_type": "markdown",
     "metadata": {},
     "source": [
      "### Load gradients and construct direction finding directions"
     ]
    },
    {
     "cell_type": "code",
     "collapsed": false,
     "input": [
      "img, bvals, bvecs = dipy.data.get_data('small_64D')\n",
      "bvals = np.load(bvals)\n",
      "bvecs = np.load(bvecs)\n",
      "where_dwi = (bvals > 0)\n",
      "bvals = bvals[where_dwi]\n",
      "bvecs = bvecs[where_dwi]\n",
      "gtab = GradientTable(bvals[:, None] * bvecs, b0_threshold=0)"
     ],
     "language": "python",
     "metadata": {},
     "outputs": [],
     "prompt_number": 80
    },
    {
     "cell_type": "markdown",
     "metadata": {},
     "source": [
      "### Configure experiment"
     ]
    },
    {
     "cell_type": "code",
     "collapsed": false,
     "input": [
      "# Number of Monte-Carlo simulations\n",
      "realizations = 100\n",
      "\n",
      "# Randomly discarded measurements\n",
      "discarded = 0\n",
      "\n",
      "# Signal to noise ratios to examine\n",
      "sig_noise = [1, 5, 10, 20]\n",
      "\n",
      "# Crossing angles\n",
      "angles = np.array([30, 35, 40, 45, 50, 55, 60, 65, 70, 75, 80, 85, 90],\n",
      "                  dtype=float)\n",
      "\n",
      "# B-values\n",
      "Bs = [3000,]"
     ],
     "language": "python",
     "metadata": {},
     "outputs": [],
     "prompt_number": 81
    },
    {
     "cell_type": "code",
     "collapsed": false,
     "input": [
      "# Note that, below, we set the max spherical harmonic order higher for\n",
      "# the sparse kernel number, as recommended in the Tristan-Vega paper.\n",
      "# If we increase the others models from 6 to 10, they do much worse.\n",
      "\n",
      "sk_model = SparseKernelModel(gtab, sh_order=10, l1_ratio=0.99, alpha=0.0005, loglog_tf=True,\n",
      "                             qp=192)\n",
      "aganj_model = AganjModel(gtab, sh_order=6, smooth=0, min_signal=0, assume_normed=True)\n",
      "tuch_model = TuchModel(gtab, sh_order=6, smooth=0, min_signal=0, assume_normed=True)\n",
      "tv_model = TristanVegaModel(gtab, sh_order=6, smooth=0, min_signal=0, assume_normed=True)\n",
      "\n",
      "models = (sk_model, aganj_model)\n",
      "\n",
      "## Configure direction finder\n",
      "\n",
      "# Discrete directions to search for maxima (typically 5 or 6).  Also\n",
      "# used to seed the maximization-based finder.\n",
      "#directions = sphere.HemiSphere.from_sphere(unit_icosahedron.subdivide(5))\n",
      "\n",
      "#for model in models:\n",
      "#    # Choose between fast but less accurate discrete direction finder,\n",
      "#    # vs. optimization based non-linear direction finder\n",
      "#    model.direction_finder = DiscreteDirectionFinder()\n",
      "#    #model.direction_finder = NonLinearDirectionFinder()\n",
      "#    \n",
      "#    model.direction_finder.config(sphere=directions, min_separation_angle=0)"
     ],
     "language": "python",
     "metadata": {},
     "outputs": [],
     "prompt_number": 82
    },
    {
     "cell_type": "markdown",
     "metadata": {},
     "source": [
      "### Perform the experiment and save results"
     ]
    },
    {
     "cell_type": "code",
     "collapsed": false,
     "input": [
      "for B in Bs:\n",
      "    print \"\\n# B-value: %d\" % B\n",
      "\n",
      "    sig_gtab = GradientTable(B * gtab.bvecs, b0_threshold=0)\n",
      "\n",
      "    for snr in sig_noise:\n",
      "        print \"\\n## SNR: %.2f\" % snr\n",
      "\n",
      "        signals = all_signals(sig_gtab, angles, realizations, snr)\n",
      "\n",
      "        for model in models:\n",
      "            model_name = model.__class__.__name__\n",
      "            print \"\\n### Model: %s\" % model_name\n",
      "\n",
      "            recovered_angles, compression_ratios = recover_angle(model, signals, discarded)\n",
      "    \n",
      "            filename = prefix + '_recovered_angle_%s_%diter_drop%d_B%d_snr%.2f.npz' % (model_name, realizations, discarded, B, snr)\n",
      "\n",
      "            np.savez(filename, model=model_name, angles=angles, realizations=realizations, discarded=discarded,\n",
      "                               sig_noise=snr, B=B, recovered_angles=recovered_angles,\n",
      "                               compression_ratios=compression_ratios)\n",
      "    \n",
      "            print \"Saved output as %s.\" % filename"
     ],
     "language": "python",
     "metadata": {},
     "outputs": [
      {
       "output_type": "stream",
       "stream": "stdout",
       "text": [
        "\n",
        "# B-value: 3000\n",
        "\n",
        "## SNR: 1.00\n",
        "\n",
        "### Model: SparseKernelModel"
       ]
      },
      {
       "output_type": "stream",
       "stream": "stdout",
       "text": [
        "\n",
        "Saved output as ./cache/_recovered_angle_SparseKernelModel_100iter_drop0_B3000_snr1.00.npz."
       ]
      },
      {
       "output_type": "stream",
       "stream": "stdout",
       "text": [
        "\n",
        "\n",
        "### Model: CsaOdfModel\n",
        "Saved output as ./cache/_recovered_angle_CsaOdfModel_100iter_drop0_B3000_snr1.00.npz."
       ]
      },
      {
       "output_type": "stream",
       "stream": "stdout",
       "text": [
        "\n",
        "\n",
        "## SNR: 5.00\n",
        "\n",
        "### Model: SparseKernelModel"
       ]
      },
      {
       "output_type": "stream",
       "stream": "stdout",
       "text": [
        "\n",
        "Saved output as ./cache/_recovered_angle_SparseKernelModel_100iter_drop0_B3000_snr5.00.npz."
       ]
      },
      {
       "output_type": "stream",
       "stream": "stdout",
       "text": [
        "\n",
        "\n",
        "### Model: CsaOdfModel\n",
        "Saved output as ./cache/_recovered_angle_CsaOdfModel_100iter_drop0_B3000_snr5.00.npz."
       ]
      },
      {
       "output_type": "stream",
       "stream": "stdout",
       "text": [
        "\n",
        "\n",
        "## SNR: 10.00\n",
        "\n",
        "### Model: SparseKernelModel"
       ]
      },
      {
       "output_type": "stream",
       "stream": "stdout",
       "text": [
        "\n",
        "Saved output as ./cache/_recovered_angle_SparseKernelModel_100iter_drop0_B3000_snr10.00.npz."
       ]
      },
      {
       "output_type": "stream",
       "stream": "stdout",
       "text": [
        "\n",
        "\n",
        "### Model: CsaOdfModel\n",
        "Saved output as ./cache/_recovered_angle_CsaOdfModel_100iter_drop0_B3000_snr10.00.npz."
       ]
      },
      {
       "output_type": "stream",
       "stream": "stdout",
       "text": [
        "\n",
        "\n",
        "## SNR: 20.00\n",
        "\n",
        "### Model: SparseKernelModel"
       ]
      },
      {
       "output_type": "stream",
       "stream": "stdout",
       "text": [
        "\n",
        "Saved output as ./cache/_recovered_angle_SparseKernelModel_100iter_drop0_B3000_snr20.00.npz."
       ]
      },
      {
       "output_type": "stream",
       "stream": "stdout",
       "text": [
        "\n",
        "\n",
        "### Model: CsaOdfModel\n",
        "Saved output as ./cache/_recovered_angle_CsaOdfModel_100iter_drop0_B3000_snr20.00.npz."
       ]
      },
      {
       "output_type": "stream",
       "stream": "stdout",
       "text": [
        "\n"
       ]
      }
     ],
     "prompt_number": 83
    },
    {
     "cell_type": "markdown",
     "metadata": {},
     "source": [
      "### Read experiment results and visualize"
     ]
    },
    {
     "cell_type": "code",
     "collapsed": false,
     "input": [
      "def my_boxplot(ax, positions, values, width=None, color=None):\n",
      "    \"\"\"Custom box plot to work around some of matplotlib's quirks.\n",
      "\n",
      "    Parameters\n",
      "    ----------\n",
      "    ax : matplotlib axis\n",
      "        Target axis.\n",
      "    positions : (M,) ndarray of float\n",
      "        Where to positions boxes on the x-axis.\n",
      "    values : (M, N) ndarray of float\n",
      "        The percentiles of each row of ``values`` is box-plotted. \n",
      "    width : float\n",
      "        Width of the boxes.\n",
      "    color : str\n",
      "        Matplotlib color code.\n",
      "\n",
      "    \"\"\"\n",
      "    if width is None:\n",
      "        width = 1\n",
      "    if color is None:\n",
      "        color = 'r'\n",
      "    \n",
      "    x = np.column_stack((positions, positions))\n",
      "  \n",
      "    p25, p50, p75 = np.percentile(values, [25, 50, 75], axis=1)\n",
      "    u = np.mean(values, axis=1)\n",
      "    \n",
      "    whisker_lower = np.column_stack((np.min(values, axis=1), p25))\n",
      "    whisker_upper = np.column_stack((p75, np.max(values, axis=1)))\n",
      "    plt.plot(x.T, whisker_lower.T, '%s-_' % color)\n",
      "    plt.plot(x.T, whisker_upper.T, '%s-_' % color)\n",
      "\n",
      "    zero_mid_percentile, = np.where(p25 == p75)\n",
      "    w = width / 2. \n",
      "    for ix in zero_mid_percentile:\n",
      "        pos = positions[ix]\n",
      "        med = np.median(values[ix])\n",
      "        plt.plot([pos - w, pos + w], [med, med], color, linewidth=6)\n",
      "        \n",
      "    line, = ax.plot(positions, u, color, linewidth=2)\n",
      "        \n",
      "    bp = ax.boxplot(values.T, positions=positions, sym='', widths=width, whis=0)\n",
      "    plt.setp(bp['boxes'], linewidth=1, color=color)\n",
      "    plt.setp(bp['medians'], linewidth=2, color=color)\n",
      "    plt.setp(bp['caps'], visible=False)\n",
      "    plt.setp(bp['fliers'], visible=False)\n",
      "    \n",
      "    return bp, line"
     ],
     "language": "python",
     "metadata": {},
     "outputs": [],
     "prompt_number": 76
    },
    {
     "cell_type": "code",
     "collapsed": false,
     "input": [
      "from glob import glob\n",
      "data_files = glob(prefix + '_recovered_angle_*.npz')\n",
      "data_files = sorted(data_files, key=lambda x: x.split('_')[4:])\n",
      "\n",
      "def filter_data(models=None, snr=None, B=None):\n",
      "    \"\"\"Choose which data-sets to display.\n",
      "\n",
      "    \"\"\"\n",
      "    for d in data_files:\n",
      "        data = np.load(d)\n",
      "        if models is not None:\n",
      "            if data['model'] not in models:\n",
      "                continue\n",
      "                \n",
      "        if B is not None:\n",
      "            if B != data['B']:\n",
      "                continue\n",
      "        \n",
      "        if snr is not None:\n",
      "            if data['sig_noise'] != snr:\n",
      "                continue\n",
      "                \n",
      "        yield data"
     ],
     "language": "python",
     "metadata": {},
     "outputs": [],
     "prompt_number": 88
    },
    {
     "cell_type": "code",
     "collapsed": false,
     "input": [
      "from collections import defaultdict\n",
      "\n",
      "# Combined data plot\n",
      "f, ax = plt.subplots(figsize=(15, 5))\n",
      "\n",
      "colors = 'bgmkcy'\n",
      "model_description = defaultdict(list)\n",
      "model_description.update(SparseKernelModel='Sparse Kernel',\n",
      "                         CsaOdfModel='Aganj',\n",
      "                         OpdtModel='Tristan-Vega')\n",
      "\n",
      "snr = 20\n",
      "B = 3000\n",
      "\n",
      "line_labels = []\n",
      "for n, data in enumerate(filter_data(snr=snr, B=B, models=[model.__class__.__name__ for model in models])):\n",
      "    recovered_angles = data['recovered_angles']\n",
      "    angles = data['angles']\n",
      "    realizations = data['realizations']\n",
      "    discarded = data['discarded']\n",
      "    model = data['model']\n",
      "    B = data['B']\n",
      "      \n",
      "    e = np.abs(angles[:, None] - recovered_angles)\n",
      "    \n",
      "    print model, colors[n]\n",
      "    bp, l = my_boxplot(ax, angles + 1 * n, e, width=0.5, color=colors[n])\n",
      "    line_labels.append((l, model_description[str(model)])) \n",
      "    \n",
      "\n",
      "plt.legend(*zip(*line_labels), fancybox=True, loc='upper center')\n",
      "\n",
      "ax.set_xlabel('Actual fiber crossing angle')\n",
      "ax.set_ylabel('Error in reconstructed angle')\n",
      "ax.set_xticks(angles)\n",
      "    \n",
      "ax.grid()\n",
      "ax.set_xlim([25, 95])\n",
      "ax.set_ylim([-5, 65])\n",
      "\n",
      "bbox = dict(boxstyle=\"round, pad=1\", fc=\"white\")\n",
      "ax.annotate('''\\\n",
      "%d iterations\n",
      "B values %d mm^2/s\n",
      "Peak Signal-to-Noise Ratio = %.2f\\\n",
      "''' % (realizations, B, snr), (78, 59), va='top', bbox=bbox)\n",
      "\n",
      "plt.savefig(prefix + 'model_comparison_snr%.2f_B%d.png' % (snr, B), dpi=300, bbox_inches='tight')"
     ],
     "language": "python",
     "metadata": {},
     "outputs": [
      {
       "output_type": "stream",
       "stream": "stdout",
       "text": [
        "SparseKernelModel b\n",
        "CsaOdfModel"
       ]
      },
      {
       "output_type": "stream",
       "stream": "stdout",
       "text": [
        " g\n"
       ]
      },
      {
       "metadata": {},
       "output_type": "display_data",
       "png": "[encoded data removed]",
       "text": [
        "<matplotlib.figure.Figure at 0x6e06dd0>"
       ]
      }
     ],
     "prompt_number": 92
    },
    {
     "cell_type": "markdown",
     "metadata": {},
     "source": [
      "Model lookup-table:\n",
      "\n",
      "- AganjModel = CsaOdfModel\n",
      "- TristanVegaModel = OpdtModel\n",
      "- TuchModel = QballModel"
     ]
    },
    {
     "cell_type": "code",
     "collapsed": false,
     "input": [],
     "language": "python",
     "metadata": {},
     "outputs": [],
     "prompt_number": 46
    }
   ],
   "metadata": {}
  }
 ]
}